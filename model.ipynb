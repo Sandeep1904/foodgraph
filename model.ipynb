{
 "cells": [
  {
   "cell_type": "code",
   "execution_count": 1,
   "metadata": {},
   "outputs": [],
   "source": [
    "import pandas as pd\n",
    "import numpy as np\n",
    "import matplotlib.pyplot as plt\n",
    "import networkx as nx"
   ]
  },
  {
   "cell_type": "code",
   "execution_count": 29,
   "metadata": {},
   "outputs": [],
   "source": [
    "df = pd.read_csv('restaurant-1-orders.csv')"
   ]
  },
  {
   "cell_type": "code",
   "execution_count": 30,
   "metadata": {},
   "outputs": [
    {
     "data": {
      "text/html": [
       "<div>\n",
       "<style scoped>\n",
       "    .dataframe tbody tr th:only-of-type {\n",
       "        vertical-align: middle;\n",
       "    }\n",
       "\n",
       "    .dataframe tbody tr th {\n",
       "        vertical-align: top;\n",
       "    }\n",
       "\n",
       "    .dataframe thead th {\n",
       "        text-align: right;\n",
       "    }\n",
       "</style>\n",
       "<table border=\"1\" class=\"dataframe\">\n",
       "  <thead>\n",
       "    <tr style=\"text-align: right;\">\n",
       "      <th></th>\n",
       "      <th>Order Number</th>\n",
       "      <th>Order Date</th>\n",
       "      <th>Item Name</th>\n",
       "      <th>Quantity</th>\n",
       "      <th>Product Price</th>\n",
       "      <th>Total products</th>\n",
       "    </tr>\n",
       "  </thead>\n",
       "  <tbody>\n",
       "    <tr>\n",
       "      <th>0</th>\n",
       "      <td>16118</td>\n",
       "      <td>03/08/2019 20:25</td>\n",
       "      <td>Plain Papadum</td>\n",
       "      <td>2</td>\n",
       "      <td>0.80</td>\n",
       "      <td>6</td>\n",
       "    </tr>\n",
       "    <tr>\n",
       "      <th>1</th>\n",
       "      <td>16118</td>\n",
       "      <td>03/08/2019 20:25</td>\n",
       "      <td>King Prawn Balti</td>\n",
       "      <td>1</td>\n",
       "      <td>12.95</td>\n",
       "      <td>6</td>\n",
       "    </tr>\n",
       "    <tr>\n",
       "      <th>2</th>\n",
       "      <td>16118</td>\n",
       "      <td>03/08/2019 20:25</td>\n",
       "      <td>Garlic Naan</td>\n",
       "      <td>1</td>\n",
       "      <td>2.95</td>\n",
       "      <td>6</td>\n",
       "    </tr>\n",
       "    <tr>\n",
       "      <th>3</th>\n",
       "      <td>16118</td>\n",
       "      <td>03/08/2019 20:25</td>\n",
       "      <td>Mushroom Rice</td>\n",
       "      <td>1</td>\n",
       "      <td>3.95</td>\n",
       "      <td>6</td>\n",
       "    </tr>\n",
       "    <tr>\n",
       "      <th>4</th>\n",
       "      <td>16118</td>\n",
       "      <td>03/08/2019 20:25</td>\n",
       "      <td>Paneer Tikka Masala</td>\n",
       "      <td>1</td>\n",
       "      <td>8.95</td>\n",
       "      <td>6</td>\n",
       "    </tr>\n",
       "    <tr>\n",
       "      <th>...</th>\n",
       "      <td>...</td>\n",
       "      <td>...</td>\n",
       "      <td>...</td>\n",
       "      <td>...</td>\n",
       "      <td>...</td>\n",
       "      <td>...</td>\n",
       "    </tr>\n",
       "    <tr>\n",
       "      <th>74813</th>\n",
       "      <td>2518</td>\n",
       "      <td>18/05/2016 18:53</td>\n",
       "      <td>House Red wine 75cl</td>\n",
       "      <td>2</td>\n",
       "      <td>17.95</td>\n",
       "      <td>7</td>\n",
       "    </tr>\n",
       "    <tr>\n",
       "      <th>74814</th>\n",
       "      <td>2503</td>\n",
       "      <td>14/05/2016 19:28</td>\n",
       "      <td>House Red wine 75cl</td>\n",
       "      <td>2</td>\n",
       "      <td>17.95</td>\n",
       "      <td>6</td>\n",
       "    </tr>\n",
       "    <tr>\n",
       "      <th>74815</th>\n",
       "      <td>2467</td>\n",
       "      <td>10/05/2016 13:18</td>\n",
       "      <td>House Red wine 75cl</td>\n",
       "      <td>2</td>\n",
       "      <td>17.95</td>\n",
       "      <td>9</td>\n",
       "    </tr>\n",
       "    <tr>\n",
       "      <th>74816</th>\n",
       "      <td>2249</td>\n",
       "      <td>07/04/2016 19:04</td>\n",
       "      <td>House white wine 75cl</td>\n",
       "      <td>1</td>\n",
       "      <td>17.95</td>\n",
       "      <td>6</td>\n",
       "    </tr>\n",
       "    <tr>\n",
       "      <th>74817</th>\n",
       "      <td>1403</td>\n",
       "      <td>02/10/2015 17:29</td>\n",
       "      <td>House Red wine 75cl</td>\n",
       "      <td>1</td>\n",
       "      <td>17.95</td>\n",
       "      <td>9</td>\n",
       "    </tr>\n",
       "  </tbody>\n",
       "</table>\n",
       "<p>74818 rows × 6 columns</p>\n",
       "</div>"
      ],
      "text/plain": [
       "       Order Number        Order Date              Item Name  Quantity  \\\n",
       "0             16118  03/08/2019 20:25          Plain Papadum         2   \n",
       "1             16118  03/08/2019 20:25       King Prawn Balti         1   \n",
       "2             16118  03/08/2019 20:25            Garlic Naan         1   \n",
       "3             16118  03/08/2019 20:25          Mushroom Rice         1   \n",
       "4             16118  03/08/2019 20:25    Paneer Tikka Masala         1   \n",
       "...             ...               ...                    ...       ...   \n",
       "74813          2518  18/05/2016 18:53    House Red wine 75cl         2   \n",
       "74814          2503  14/05/2016 19:28    House Red wine 75cl         2   \n",
       "74815          2467  10/05/2016 13:18    House Red wine 75cl         2   \n",
       "74816          2249  07/04/2016 19:04  House white wine 75cl         1   \n",
       "74817          1403  02/10/2015 17:29    House Red wine 75cl         1   \n",
       "\n",
       "       Product Price  Total products  \n",
       "0               0.80               6  \n",
       "1              12.95               6  \n",
       "2               2.95               6  \n",
       "3               3.95               6  \n",
       "4               8.95               6  \n",
       "...              ...             ...  \n",
       "74813          17.95               7  \n",
       "74814          17.95               6  \n",
       "74815          17.95               9  \n",
       "74816          17.95               6  \n",
       "74817          17.95               9  \n",
       "\n",
       "[74818 rows x 6 columns]"
      ]
     },
     "execution_count": 30,
     "metadata": {},
     "output_type": "execute_result"
    }
   ],
   "source": [
    "df"
   ]
  },
  {
   "cell_type": "code",
   "execution_count": 31,
   "metadata": {},
   "outputs": [],
   "source": [
    "dfd = df.drop_duplicates(subset=['Item Name'])"
   ]
  },
  {
   "cell_type": "code",
   "execution_count": 32,
   "metadata": {},
   "outputs": [
    {
     "name": "stderr",
     "output_type": "stream",
     "text": [
      "/var/folders/sz/4dnyt_zd7_v7g39gxc4lz3000000gn/T/ipykernel_34253/3180632381.py:2: SettingWithCopyWarning: \n",
      "A value is trying to be set on a copy of a slice from a DataFrame\n",
      "\n",
      "See the caveats in the documentation: https://pandas.pydata.org/pandas-docs/stable/user_guide/indexing.html#returning-a-view-versus-a-copy\n",
      "  dfd.drop(['Order Number','Order Date', 'Quantity', 'Total products'], axis=1, inplace=True)\n"
     ]
    }
   ],
   "source": [
    "df.drop(['Order Number', 'Quantity', 'Product Price', 'Total products'], axis=1, inplace=True)\n",
    "dfd.drop(['Order Number','Order Date', 'Quantity', 'Total products'], axis=1, inplace=True)"
   ]
  },
  {
   "cell_type": "code",
   "execution_count": 33,
   "metadata": {},
   "outputs": [],
   "source": [
    "df = df.groupby('Order Date', as_index=False).agg(\n",
    "    {'Item Name': lambda x: ', '.join(x)}\n",
    ")"
   ]
  },
  {
   "cell_type": "code",
   "execution_count": 34,
   "metadata": {},
   "outputs": [
    {
     "data": {
      "text/html": [
       "<div>\n",
       "<style scoped>\n",
       "    .dataframe tbody tr th:only-of-type {\n",
       "        vertical-align: middle;\n",
       "    }\n",
       "\n",
       "    .dataframe tbody tr th {\n",
       "        vertical-align: top;\n",
       "    }\n",
       "\n",
       "    .dataframe thead th {\n",
       "        text-align: right;\n",
       "    }\n",
       "</style>\n",
       "<table border=\"1\" class=\"dataframe\">\n",
       "  <thead>\n",
       "    <tr style=\"text-align: right;\">\n",
       "      <th></th>\n",
       "      <th>Order Date</th>\n",
       "      <th>Item Name</th>\n",
       "    </tr>\n",
       "  </thead>\n",
       "  <tbody>\n",
       "    <tr>\n",
       "      <th>0</th>\n",
       "      <td>01/01/2017 17:31</td>\n",
       "      <td>Mango Chutney, Mint Sauce, Plain Naan, Vindalo...</td>\n",
       "    </tr>\n",
       "    <tr>\n",
       "      <th>1</th>\n",
       "      <td>01/01/2017 17:38</td>\n",
       "      <td>Mango Chutney, Mint Sauce, Plain Naan, Vindalo...</td>\n",
       "    </tr>\n",
       "    <tr>\n",
       "      <th>2</th>\n",
       "      <td>01/01/2017 17:51</td>\n",
       "      <td>Plain Naan, Pilau Rice, Raitha, Masala Sauce, ...</td>\n",
       "    </tr>\n",
       "    <tr>\n",
       "      <th>3</th>\n",
       "      <td>01/01/2017 18:20</td>\n",
       "      <td>Mango Chutney, Onion Chutney, Mint Sauce, Plai...</td>\n",
       "    </tr>\n",
       "    <tr>\n",
       "      <th>4</th>\n",
       "      <td>01/01/2017 18:28</td>\n",
       "      <td>Mango Chutney, Mint Sauce, Plain Papadum, Chap...</td>\n",
       "    </tr>\n",
       "    <tr>\n",
       "      <th>...</th>\n",
       "      <td>...</td>\n",
       "      <td>...</td>\n",
       "    </tr>\n",
       "    <tr>\n",
       "      <th>13076</th>\n",
       "      <td>31/12/2018 19:37</td>\n",
       "      <td>Plain Rice, Paratha, Garlic Naan, Onion Bhajee...</td>\n",
       "    </tr>\n",
       "    <tr>\n",
       "      <th>13077</th>\n",
       "      <td>31/12/2018 20:14</td>\n",
       "      <td>Peshwari Naan, Saag Rice, Mixed Starter, Chick...</td>\n",
       "    </tr>\n",
       "    <tr>\n",
       "      <th>13078</th>\n",
       "      <td>31/12/2018 20:54</td>\n",
       "      <td>Mango Chutney, Mint Sauce, Onion Chutney, Red ...</td>\n",
       "    </tr>\n",
       "    <tr>\n",
       "      <th>13079</th>\n",
       "      <td>31/12/2018 21:13</td>\n",
       "      <td>Mango Chutney, Plain Naan, Sheek Kebab, Bombay...</td>\n",
       "    </tr>\n",
       "    <tr>\n",
       "      <th>13080</th>\n",
       "      <td>31/12/2018 21:56</td>\n",
       "      <td>Mint Sauce, Mushroom Rice, Masala Sauce, Mixed...</td>\n",
       "    </tr>\n",
       "  </tbody>\n",
       "</table>\n",
       "<p>13081 rows × 2 columns</p>\n",
       "</div>"
      ],
      "text/plain": [
       "             Order Date                                          Item Name\n",
       "0      01/01/2017 17:31  Mango Chutney, Mint Sauce, Plain Naan, Vindalo...\n",
       "1      01/01/2017 17:38  Mango Chutney, Mint Sauce, Plain Naan, Vindalo...\n",
       "2      01/01/2017 17:51  Plain Naan, Pilau Rice, Raitha, Masala Sauce, ...\n",
       "3      01/01/2017 18:20  Mango Chutney, Onion Chutney, Mint Sauce, Plai...\n",
       "4      01/01/2017 18:28  Mango Chutney, Mint Sauce, Plain Papadum, Chap...\n",
       "...                 ...                                                ...\n",
       "13076  31/12/2018 19:37  Plain Rice, Paratha, Garlic Naan, Onion Bhajee...\n",
       "13077  31/12/2018 20:14  Peshwari Naan, Saag Rice, Mixed Starter, Chick...\n",
       "13078  31/12/2018 20:54  Mango Chutney, Mint Sauce, Onion Chutney, Red ...\n",
       "13079  31/12/2018 21:13  Mango Chutney, Plain Naan, Sheek Kebab, Bombay...\n",
       "13080  31/12/2018 21:56  Mint Sauce, Mushroom Rice, Masala Sauce, Mixed...\n",
       "\n",
       "[13081 rows x 2 columns]"
      ]
     },
     "execution_count": 34,
     "metadata": {},
     "output_type": "execute_result"
    }
   ],
   "source": [
    "df"
   ]
  },
  {
   "cell_type": "code",
   "execution_count": 44,
   "metadata": {},
   "outputs": [
    {
     "data": {
      "text/plain": [
       "Index([841], dtype='int64')"
      ]
     },
     "execution_count": 44,
     "metadata": {},
     "output_type": "execute_result"
    }
   ],
   "source": [
    "df.loc[df['Order Date'] == '02/10/2015 17:29'].index"
   ]
  },
  {
   "cell_type": "code",
   "execution_count": 35,
   "metadata": {},
   "outputs": [],
   "source": [
    "dfd.reset_index(drop=True, inplace=True)"
   ]
  },
  {
   "cell_type": "code",
   "execution_count": 58,
   "metadata": {},
   "outputs": [
    {
     "data": {
      "text/html": [
       "<div>\n",
       "<style scoped>\n",
       "    .dataframe tbody tr th:only-of-type {\n",
       "        vertical-align: middle;\n",
       "    }\n",
       "\n",
       "    .dataframe tbody tr th {\n",
       "        vertical-align: top;\n",
       "    }\n",
       "\n",
       "    .dataframe thead th {\n",
       "        text-align: right;\n",
       "    }\n",
       "</style>\n",
       "<table border=\"1\" class=\"dataframe\">\n",
       "  <thead>\n",
       "    <tr style=\"text-align: right;\">\n",
       "      <th></th>\n",
       "      <th>Item Name</th>\n",
       "      <th>Product Price</th>\n",
       "    </tr>\n",
       "  </thead>\n",
       "  <tbody>\n",
       "    <tr>\n",
       "      <th>0</th>\n",
       "      <td>Plain Papadum</td>\n",
       "      <td>0.80</td>\n",
       "    </tr>\n",
       "    <tr>\n",
       "      <th>1</th>\n",
       "      <td>King Prawn Balti</td>\n",
       "      <td>12.95</td>\n",
       "    </tr>\n",
       "    <tr>\n",
       "      <th>2</th>\n",
       "      <td>Garlic Naan</td>\n",
       "      <td>2.95</td>\n",
       "    </tr>\n",
       "    <tr>\n",
       "      <th>3</th>\n",
       "      <td>Mushroom Rice</td>\n",
       "      <td>3.95</td>\n",
       "    </tr>\n",
       "    <tr>\n",
       "      <th>4</th>\n",
       "      <td>Paneer Tikka Masala</td>\n",
       "      <td>8.95</td>\n",
       "    </tr>\n",
       "    <tr>\n",
       "      <th>5</th>\n",
       "      <td>Mango Chutney</td>\n",
       "      <td>0.50</td>\n",
       "    </tr>\n",
       "    <tr>\n",
       "      <th>6</th>\n",
       "      <td>Plain Naan</td>\n",
       "      <td>2.60</td>\n",
       "    </tr>\n",
       "    <tr>\n",
       "      <th>7</th>\n",
       "      <td>Tandoori Chicken (1/4)</td>\n",
       "      <td>4.95</td>\n",
       "    </tr>\n",
       "    <tr>\n",
       "      <th>8</th>\n",
       "      <td>Vindaloo - Lamb</td>\n",
       "      <td>7.95</td>\n",
       "    </tr>\n",
       "    <tr>\n",
       "      <th>9</th>\n",
       "      <td>Chapati</td>\n",
       "      <td>1.95</td>\n",
       "    </tr>\n",
       "  </tbody>\n",
       "</table>\n",
       "</div>"
      ],
      "text/plain": [
       "                Item Name  Product Price\n",
       "0           Plain Papadum           0.80\n",
       "1        King Prawn Balti          12.95\n",
       "2             Garlic Naan           2.95\n",
       "3           Mushroom Rice           3.95\n",
       "4     Paneer Tikka Masala           8.95\n",
       "5           Mango Chutney           0.50\n",
       "6              Plain Naan           2.60\n",
       "7  Tandoori Chicken (1/4)           4.95\n",
       "8         Vindaloo - Lamb           7.95\n",
       "9                 Chapati           1.95"
      ]
     },
     "execution_count": 58,
     "metadata": {},
     "output_type": "execute_result"
    }
   ],
   "source": [
    "dfd.head(10)"
   ]
  },
  {
   "cell_type": "code",
   "execution_count": 54,
   "metadata": {},
   "outputs": [
    {
     "data": {
      "text/plain": [
       "'Mango Chutney, Mint Sauce, Plain Naan, Vindaloo, Chicken Tikka (Main), Sheek Kebab (Main), Lamb Karahi, Paneer Shaslick, Lamb Tikka Biryani'"
      ]
     },
     "execution_count": 54,
     "metadata": {},
     "output_type": "execute_result"
    }
   ],
   "source": [
    "df.iloc[0,1]"
   ]
  },
  {
   "cell_type": "code",
   "execution_count": 59,
   "metadata": {},
   "outputs": [
    {
     "data": {
      "text/html": [
       "<div>\n",
       "<style scoped>\n",
       "    .dataframe tbody tr th:only-of-type {\n",
       "        vertical-align: middle;\n",
       "    }\n",
       "\n",
       "    .dataframe tbody tr th {\n",
       "        vertical-align: top;\n",
       "    }\n",
       "\n",
       "    .dataframe thead th {\n",
       "        text-align: right;\n",
       "    }\n",
       "</style>\n",
       "<table border=\"1\" class=\"dataframe\">\n",
       "  <thead>\n",
       "    <tr style=\"text-align: right;\">\n",
       "      <th></th>\n",
       "      <th>Order Date</th>\n",
       "      <th>Item Name</th>\n",
       "    </tr>\n",
       "  </thead>\n",
       "  <tbody>\n",
       "    <tr>\n",
       "      <th>0</th>\n",
       "      <td>01/01/2017 17:31</td>\n",
       "      <td>[5, 32, 6, 149, 39, 165, 158, 197, 214]</td>\n",
       "    </tr>\n",
       "    <tr>\n",
       "      <th>1</th>\n",
       "      <td>01/01/2017 17:38</td>\n",
       "      <td>[5, 32, 6, 149, 39, 165, 158, 197, 214]</td>\n",
       "    </tr>\n",
       "    <tr>\n",
       "      <th>2</th>\n",
       "      <td>01/01/2017 17:51</td>\n",
       "      <td>[6, 20, 90, 52, 42, 89, 12, 35, 137, 13, 163, ...</td>\n",
       "    </tr>\n",
       "    <tr>\n",
       "      <th>3</th>\n",
       "      <td>01/01/2017 18:20</td>\n",
       "      <td>[5, 38, 32, 0, 2, 3, 36, 11, 183, 65]</td>\n",
       "    </tr>\n",
       "    <tr>\n",
       "      <th>4</th>\n",
       "      <td>01/01/2017 18:28</td>\n",
       "      <td>[5, 32, 0, 9, 36, 120, 190, 81]</td>\n",
       "    </tr>\n",
       "    <tr>\n",
       "      <th>...</th>\n",
       "      <td>...</td>\n",
       "      <td>...</td>\n",
       "    </tr>\n",
       "    <tr>\n",
       "      <th>13076</th>\n",
       "      <td>31/12/2018 19:37</td>\n",
       "      <td>[41, 115, 2, 36, 35, 100, 69, 40, 54]</td>\n",
       "    </tr>\n",
       "    <tr>\n",
       "      <th>13077</th>\n",
       "      <td>31/12/2018 20:14</td>\n",
       "      <td>[19, 104, 49, 23, 94]</td>\n",
       "    </tr>\n",
       "    <tr>\n",
       "      <th>13078</th>\n",
       "      <td>31/12/2018 20:54</td>\n",
       "      <td>[5, 32, 38, 17, 0, 6, 20, 16, 40, 57]</td>\n",
       "    </tr>\n",
       "    <tr>\n",
       "      <th>13079</th>\n",
       "      <td>31/12/2018 21:13</td>\n",
       "      <td>[5, 6, 37, 35, 48]</td>\n",
       "    </tr>\n",
       "    <tr>\n",
       "      <th>13080</th>\n",
       "      <td>31/12/2018 21:56</td>\n",
       "      <td>[32, 3, 52, 49, 35, 78, 247]</td>\n",
       "    </tr>\n",
       "  </tbody>\n",
       "</table>\n",
       "<p>13081 rows × 2 columns</p>\n",
       "</div>"
      ],
      "text/plain": [
       "             Order Date                                          Item Name\n",
       "0      01/01/2017 17:31            [5, 32, 6, 149, 39, 165, 158, 197, 214]\n",
       "1      01/01/2017 17:38            [5, 32, 6, 149, 39, 165, 158, 197, 214]\n",
       "2      01/01/2017 17:51  [6, 20, 90, 52, 42, 89, 12, 35, 137, 13, 163, ...\n",
       "3      01/01/2017 18:20              [5, 38, 32, 0, 2, 3, 36, 11, 183, 65]\n",
       "4      01/01/2017 18:28                    [5, 32, 0, 9, 36, 120, 190, 81]\n",
       "...                 ...                                                ...\n",
       "13076  31/12/2018 19:37              [41, 115, 2, 36, 35, 100, 69, 40, 54]\n",
       "13077  31/12/2018 20:14                              [19, 104, 49, 23, 94]\n",
       "13078  31/12/2018 20:54              [5, 32, 38, 17, 0, 6, 20, 16, 40, 57]\n",
       "13079  31/12/2018 21:13                                 [5, 6, 37, 35, 48]\n",
       "13080  31/12/2018 21:56                       [32, 3, 52, 49, 35, 78, 247]\n",
       "\n",
       "[13081 rows x 2 columns]"
      ]
     },
     "execution_count": 59,
     "metadata": {},
     "output_type": "execute_result"
    }
   ],
   "source": [
    "df['Item Name'] = df['Item Name'].apply(lambda x: [dfd.loc[dfd['Item Name'] == item].index[0].astype(int) for item in x.split(\", \")])\n",
    "df"
   ]
  },
  {
   "cell_type": "markdown",
   "metadata": {},
   "source": [
    "### Complimentary Recommendations"
   ]
  },
  {
   "cell_type": "code",
   "execution_count": 135,
   "metadata": {},
   "outputs": [
    {
     "name": "stdout",
     "output_type": "stream",
     "text": [
      "Graph with 0 nodes and 0 edges\n"
     ]
    }
   ],
   "source": [
    "G = nx.empty_graph()\n",
    "print(G)"
   ]
  },
  {
   "cell_type": "code",
   "execution_count": 136,
   "metadata": {},
   "outputs": [
    {
     "name": "stdout",
     "output_type": "stream",
     "text": [
      "Graph with 248 nodes and 17796 edges\n"
     ]
    }
   ],
   "source": [
    "\n",
    "# Process each row in the DataFrame\n",
    "for _, row in df.iterrows():\n",
    "    current_items = row[\"Item Name\"]  # Get the list of items in the row\n",
    "\n",
    "    # Fully connect all nodes in the current row\n",
    "    for i, node1 in enumerate(current_items):\n",
    "        for node2 in current_items[i+1:]:\n",
    "            # Check if the edge already exists\n",
    "            if G.has_edge(node1, node2):\n",
    "                # Increment the weight of the edge\n",
    "                G[node1][node2]['weight'] += 1\n",
    "            else:\n",
    "                # Add a new edge with weight 1\n",
    "                G.add_edge(node1, node2, weight=1)\n",
    "\n",
    "    # # Connect current row's nodes to all existing nodes in the graph\n",
    "    # for node in current_items:\n",
    "    #     if node not in G.nodes:\n",
    "    #         G.add_node(node)  # Add new node\n",
    "    #     for existing_node in G.nodes:\n",
    "    #         if node != existing_node:  # Avoid self-loops\n",
    "    #             # Check if the edge already exists\n",
    "    #             if G.has_edge(node, existing_node):\n",
    "    #                 # Increment the weight of the edge\n",
    "    #                 G[node][existing_node]['weight'] += 1\n",
    "    #             else:\n",
    "    #                 # Add a new edge with weight 1\n",
    "    #                 G.add_edge(node, existing_node, weight=1)\n",
    "\n",
    "# Display the graph info\n",
    "print(G)"
   ]
  },
  {
   "cell_type": "code",
   "execution_count": 137,
   "metadata": {},
   "outputs": [
    {
     "data": {
      "image/png": "[encoded data removed]",
      "text/plain": [
       "<Figure size 640x480 with 1 Axes>"
      ]
     },
     "metadata": {},
     "output_type": "display_data"
    }
   ],
   "source": [
    "nx.draw_random(G)"
   ]
  },
  {
   "cell_type": "code",
   "execution_count": 138,
   "metadata": {},
   "outputs": [
    {
     "name": "stdout",
     "output_type": "stream",
     "text": [
      "Number of self-loops: 60\n",
      "Self-loops: [(np.int64(5), np.int64(5)), (np.int64(32), np.int64(32)), (np.int64(6), np.int64(6)), (np.int64(149), np.int64(149)), (np.int64(20), np.int64(20)), (np.int64(52), np.int64(52)), (np.int64(42), np.int64(42)), (np.int64(12), np.int64(12)), (np.int64(35), np.int64(35)), (np.int64(38), np.int64(38)), (np.int64(0), np.int64(0)), (np.int64(2), np.int64(2)), (np.int64(3), np.int64(3)), (np.int64(36), np.int64(36)), (np.int64(11), np.int64(11)), (np.int64(183), np.int64(183)), (np.int64(9), np.int64(9)), (np.int64(41), np.int64(41)), (np.int64(29), np.int64(29)), (np.int64(179), np.int64(179)), (np.int64(16), np.int64(16)), (np.int64(48), np.int64(48)), (np.int64(17), np.int64(17)), (np.int64(104), np.int64(104)), (np.int64(180), np.int64(180)), (np.int64(92), np.int64(92)), (np.int64(31), np.int64(31)), (np.int64(43), np.int64(43)), (np.int64(115), np.int64(115)), (np.int64(100), np.int64(100)), (np.int64(181), np.int64(181)), (np.int64(147), np.int64(147)), (np.int64(23), np.int64(23)), (np.int64(78), np.int64(78)), (np.int64(184), np.int64(184)), (np.int64(110), np.int64(110)), (np.int64(54), np.int64(54)), (np.int64(109), np.int64(109)), (np.int64(112), np.int64(112)), (np.int64(19), np.int64(19)), (np.int64(114), np.int64(114)), (np.int64(76), np.int64(76)), (np.int64(49), np.int64(49)), (np.int64(99), np.int64(99)), (np.int64(150), np.int64(150)), (np.int64(148), np.int64(148)), (np.int64(186), np.int64(186)), (np.int64(59), np.int64(59)), (np.int64(40), np.int64(40)), (np.int64(86), np.int64(86)), (np.int64(111), np.int64(111)), (np.int64(66), np.int64(66)), (np.int64(33), np.int64(33)), (np.int64(68), np.int64(68)), (np.int64(69), np.int64(69)), (np.int64(61), np.int64(61)), (np.int64(64), np.int64(64)), (np.int64(63), np.int64(63)), (np.int64(93), np.int64(93)), (np.int64(113), np.int64(113))]\n"
     ]
    }
   ],
   "source": [
    "self_loops = list(nx.selfloop_edges(G))\n",
    "print(f\"Number of self-loops: {len(self_loops)}\")\n",
    "if len(self_loops) > 0:\n",
    "    print(f\"Self-loops: {self_loops}\")"
   ]
  },
  {
   "cell_type": "code",
   "execution_count": 139,
   "metadata": {},
   "outputs": [],
   "source": [
    "G.remove_edges_from(nx.selfloop_edges(G))"
   ]
  },
  {
   "cell_type": "code",
   "execution_count": 140,
   "metadata": {},
   "outputs": [
    {
     "name": "stdout",
     "output_type": "stream",
     "text": [
      "Graph with 248 nodes and 17736 edges\n"
     ]
    }
   ],
   "source": [
    "print(G)"
   ]
  },
  {
   "cell_type": "code",
   "execution_count": 141,
   "metadata": {},
   "outputs": [],
   "source": [
    "def get_top_k_adjacent_nodes(graph, node, k):\n",
    "    \"\"\"\n",
    "    Get the top k adjacent nodes with the highest edge weights for a given node.\n",
    "\n",
    "    Args:\n",
    "        graph (nx.Graph): The graph object.\n",
    "        node: The node for which to find the top k neighbors.\n",
    "        k (int): The number of top neighbors to retrieve.\n",
    "\n",
    "    Returns:\n",
    "        list: A list of tuples (neighbor, weight) sorted by weight in descending order.\n",
    "    \"\"\"\n",
    "    if node not in graph:\n",
    "        print(f\"Node {node} is not in the graph.\")\n",
    "        return []\n",
    "    \n",
    "    # Get all neighbors of the node with their weights\n",
    "    neighbors = [(neighbor, graph[node][neighbor]['weight']) for neighbor in graph.neighbors(node)]\n",
    "    \n",
    "    # Sort the neighbors by weight in descending order\n",
    "    sorted_neighbors = sorted(neighbors, key=lambda x: x[1], reverse=True)\n",
    "    \n",
    "    # Return the top k neighbors\n",
    "    return sorted_neighbors[:k]\n",
    "\n"
   ]
  },
  {
   "cell_type": "code",
   "execution_count": 162,
   "metadata": {},
   "outputs": [
    {
     "name": "stdout",
     "output_type": "stream",
     "text": [
      "Top 10 neighbors of node 5: [(np.int64(0), 1559), (np.int64(20), 1037), (np.int64(6), 748), (np.int64(32), 743), (np.int64(38), 598), (np.int64(36), 570), (np.int64(2), 489), (np.int64(23), 479), (np.int64(41), 430), (np.int64(35), 426)]\n"
     ]
    }
   ],
   "source": [
    "# Example usage\n",
    "node = 5  # The node to query\n",
    "k = 10  # Top k neighbors\n",
    "top_k_neighbors = get_top_k_adjacent_nodes(G, node, k)\n",
    "print(f\"Top {k} neighbors of node {node}: {top_k_neighbors}\")"
   ]
  },
  {
   "cell_type": "code",
   "execution_count": 168,
   "metadata": {},
   "outputs": [
    {
     "data": {
      "text/plain": [
       "Item Name        Bombay Aloo\n",
       "Product Price           5.95\n",
       "Name: 35, dtype: object"
      ]
     },
     "execution_count": 168,
     "metadata": {},
     "output_type": "execute_result"
    }
   ],
   "source": [
    "dfd.iloc[35]"
   ]
  },
  {
   "cell_type": "markdown",
   "metadata": {},
   "source": [
    "### Alternative Recommendations"
   ]
  },
  {
   "cell_type": "code",
   "execution_count": 172,
   "metadata": {},
   "outputs": [],
   "source": [
    "from sklearn.neighbors import NearestNeighbors"
   ]
  },
  {
   "cell_type": "code",
   "execution_count": 169,
   "metadata": {},
   "outputs": [
    {
     "data": {
      "text/html": [
       "<div>\n",
       "<style scoped>\n",
       "    .dataframe tbody tr th:only-of-type {\n",
       "        vertical-align: middle;\n",
       "    }\n",
       "\n",
       "    .dataframe tbody tr th {\n",
       "        vertical-align: top;\n",
       "    }\n",
       "\n",
       "    .dataframe thead th {\n",
       "        text-align: right;\n",
       "    }\n",
       "</style>\n",
       "<table border=\"1\" class=\"dataframe\">\n",
       "  <thead>\n",
       "    <tr style=\"text-align: right;\">\n",
       "      <th></th>\n",
       "      <th>Item Name</th>\n",
       "      <th>Product Price</th>\n",
       "    </tr>\n",
       "  </thead>\n",
       "  <tbody>\n",
       "    <tr>\n",
       "      <th>0</th>\n",
       "      <td>Plain Papadum</td>\n",
       "      <td>0.80</td>\n",
       "    </tr>\n",
       "    <tr>\n",
       "      <th>1</th>\n",
       "      <td>King Prawn Balti</td>\n",
       "      <td>12.95</td>\n",
       "    </tr>\n",
       "    <tr>\n",
       "      <th>2</th>\n",
       "      <td>Garlic Naan</td>\n",
       "      <td>2.95</td>\n",
       "    </tr>\n",
       "    <tr>\n",
       "      <th>3</th>\n",
       "      <td>Mushroom Rice</td>\n",
       "      <td>3.95</td>\n",
       "    </tr>\n",
       "    <tr>\n",
       "      <th>4</th>\n",
       "      <td>Paneer Tikka Masala</td>\n",
       "      <td>8.95</td>\n",
       "    </tr>\n",
       "    <tr>\n",
       "      <th>...</th>\n",
       "      <td>...</td>\n",
       "      <td>...</td>\n",
       "    </tr>\n",
       "    <tr>\n",
       "      <th>243</th>\n",
       "      <td>Mushroom - King Prawn</td>\n",
       "      <td>12.95</td>\n",
       "    </tr>\n",
       "    <tr>\n",
       "      <th>244</th>\n",
       "      <td>King Prawn Karahi</td>\n",
       "      <td>12.95</td>\n",
       "    </tr>\n",
       "    <tr>\n",
       "      <th>245</th>\n",
       "      <td>Methi - King Prawn</td>\n",
       "      <td>12.95</td>\n",
       "    </tr>\n",
       "    <tr>\n",
       "      <th>246</th>\n",
       "      <td>Kurma</td>\n",
       "      <td>12.95</td>\n",
       "    </tr>\n",
       "    <tr>\n",
       "      <th>247</th>\n",
       "      <td>House Red wine 75cl</td>\n",
       "      <td>17.95</td>\n",
       "    </tr>\n",
       "  </tbody>\n",
       "</table>\n",
       "<p>248 rows × 2 columns</p>\n",
       "</div>"
      ],
      "text/plain": [
       "                 Item Name  Product Price\n",
       "0            Plain Papadum           0.80\n",
       "1         King Prawn Balti          12.95\n",
       "2              Garlic Naan           2.95\n",
       "3            Mushroom Rice           3.95\n",
       "4      Paneer Tikka Masala           8.95\n",
       "..                     ...            ...\n",
       "243  Mushroom - King Prawn          12.95\n",
       "244      King Prawn Karahi          12.95\n",
       "245     Methi - King Prawn          12.95\n",
       "246                  Kurma          12.95\n",
       "247    House Red wine 75cl          17.95\n",
       "\n",
       "[248 rows x 2 columns]"
      ]
     },
     "execution_count": 169,
     "metadata": {},
     "output_type": "execute_result"
    }
   ],
   "source": [
    "dfd"
   ]
  },
  {
   "cell_type": "code",
   "execution_count": 176,
   "metadata": {},
   "outputs": [],
   "source": [
    "# Extract prices as the feature for KNN\n",
    "prices = dfd[\"Product Price\"].values.reshape(-1, 1)\n",
    "\n",
    "# Initialize the KNN model\n",
    "k = 5\n",
    "knn = NearestNeighbors(n_neighbors=k, metric='euclidean')\n",
    "knn.fit(prices)\n",
    "\n",
    "# Function to find k nearest neighbors for a given item\n",
    "def find_knn(item_name, df, knn_model):\n",
    "    # Get the price of the given item\n",
    "    item_price = df.loc[df[\"Item Name\"] == item_name, \"Product Price\"].values[0].reshape(-1, 1)\n",
    "    \n",
    "    # Find k nearest neighbors\n",
    "    distances, indices = knn_model.kneighbors(item_price)\n",
    "    \n",
    "    # Get the corresponding items and their distances\n",
    "    neighbors = [(df.iloc[idx][\"Item Name\"], df.iloc[idx][\"Product Price\"], dist) \n",
    "                 for idx, dist in zip(indices[0], distances[0])]\n",
    "    \n",
    "    return neighbors\n",
    "\n"
   ]
  },
  {
   "cell_type": "code",
   "execution_count": 178,
   "metadata": {},
   "outputs": [
    {
     "name": "stdout",
     "output_type": "stream",
     "text": [
      "Top 5 items with relatable prices to 'Tandoori Chicken':\n",
      "Item: Korma - Chicken, Price: 8.95, Distance: 0.00\n",
      "Item: Tandoori Chicken Masala, Price: 8.95, Distance: 0.00\n",
      "Item: Lamb Tikka Chilli Masala, Price: 8.95, Distance: 0.00\n",
      "Item: Paneer Tikka Masala, Price: 8.95, Distance: 0.00\n",
      "Item: Chicken Tikka (Main), Price: 8.95, Distance: 0.00\n"
     ]
    }
   ],
   "source": [
    "# Example usage\n",
    "k = 5  # Number of neighbors\n",
    "item_to_query = \"Tandoori Chicken\"\n",
    "result = find_knn(item_to_query, dfd, knn)\n",
    "\n",
    "# Print results\n",
    "print(f\"Top {k} items with relatable prices to '{item_to_query}':\")\n",
    "for neighbor in result:\n",
    "    print(f\"Item: {neighbor[0]}, Price: {neighbor[1]}, Distance: {neighbor[2]:.2f}\")"
   ]
  },
  {
   "cell_type": "code",
   "execution_count": 180,
   "metadata": {},
   "outputs": [
    {
     "data": {
      "text/plain": [
       "(248, 1)"
      ]
     },
     "execution_count": 180,
     "metadata": {},
     "output_type": "execute_result"
    }
   ],
   "source": [
    "prices.shape"
   ]
  },
  {
   "cell_type": "code",
   "execution_count": null,
   "metadata": {},
   "outputs": [],
   "source": []
  }
 ],
 "metadata": {
  "kernelspec": {
   "display_name": "venv",
   "language": "python",
   "name": "python3"
  },
  "language_info": {
   "codemirror_mode": {
    "name": "ipython",
    "version": 3
   },
   "file_extension": ".py",
   "mimetype": "text/x-python",
   "name": "python",
   "nbconvert_exporter": "python",
   "pygments_lexer": "ipython3",
   "version": "3.9.1"
  }
 },
 "nbformat": 4,
 "nbformat_minor": 2
}
